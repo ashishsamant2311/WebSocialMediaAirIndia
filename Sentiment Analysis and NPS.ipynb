{
 "cells": [
  {
   "cell_type": "code",
   "execution_count": 1,
   "id": "e4d47ed8",
   "metadata": {},
   "outputs": [],
   "source": [
    "import os\n",
    "import tweepy as tw\n",
    "import pandas as pd\n",
    "import json\n",
    "import numpy as np\n",
    "import matplotlib.pyplot as plt"
   ]
  },
  {
   "cell_type": "code",
   "execution_count": 2,
   "id": "f0162f3b",
   "metadata": {},
   "outputs": [],
   "source": [
    "from nltk.sentiment.vader import SentimentIntensityAnalyzer\n",
    "sid = SentimentIntensityAnalyzer()\n",
    "import matplotlib.pyplot as plt"
   ]
  },
  {
   "cell_type": "code",
   "execution_count": 3,
   "id": "044a9233",
   "metadata": {},
   "outputs": [],
   "source": [
    "df_Air= pd.read_csv('Indian_airlines.csv')"
   ]
  },
  {
   "cell_type": "code",
   "execution_count": 4,
   "id": "4fbc32a0",
   "metadata": {},
   "outputs": [
    {
     "data": {
      "text/plain": [
       "Spicejet      2932\n",
       "AirIndia      2290\n",
       "Indigo        1936\n",
       "AirVistara    1595\n",
       "AirAsia        604\n",
       "Name: Airlines, dtype: int64"
      ]
     },
     "execution_count": 4,
     "metadata": {},
     "output_type": "execute_result"
    }
   ],
   "source": [
    "df_Air.Airlines.value_counts()"
   ]
  },
  {
   "cell_type": "code",
   "execution_count": 5,
   "id": "19fff6f1",
   "metadata": {},
   "outputs": [],
   "source": [
    "import nltk\n",
    "from nltk.corpus import stopwords\n",
    "stop_words = set(stopwords.words(\"english\"))\n",
    "new_words = ['air','india','spicejet','indigo','ai','even', 'get', 'would','make', 'really', 'see', 'well', 'much', 'great', 'first', 'people', 'also', 'bad', \n",
    "             'show', 'way', 'thing', 'made', 'go', 'think', 'know', 'watch','look','many', 'co', 'http', 'mo',\n",
    "            'twitter','thank','com', 'thanks','pic', 'bit','ly', 'country','www','Indigo','AirAsia','Spicejet','Air India',\n",
    "            'AirVistara','GoFirst']\n",
    "stop_words = stop_words.union(new_words)"
   ]
  },
  {
   "cell_type": "code",
   "execution_count": 6,
   "id": "40fedf01",
   "metadata": {},
   "outputs": [],
   "source": [
    "df_Indigo=df_Air[df_Air.Airlines== 'Indigo']\n",
    "df_AirAsia=df_Air[df_Air.Airlines== 'AirAsia']\n",
    "df_Spicejet=df_Air[df_Air.Airlines== 'Spicejet']\n",
    "df_AirIndia=df_Air[df_Air.Airlines== 'AirIndia']\n",
    "df_AirVistara=df_Air[df_Air.Airlines== 'AirVistara']\n",
    "#df_GoFirst=df_Air[df_Air.Airlines== 'GoFirst']"
   ]
  },
  {
   "cell_type": "code",
   "execution_count": 7,
   "id": "e5e528ec",
   "metadata": {},
   "outputs": [],
   "source": [
    "df_Indigo.reset_index(drop=True, inplace=True)\n",
    "df_AirAsia.reset_index(drop=True, inplace=True)\n",
    "df_Spicejet.reset_index(drop=True, inplace=True)\n",
    "df_AirIndia.reset_index(drop=True, inplace=True)\n",
    "df_AirVistara.reset_index(drop=True, inplace=True)"
   ]
  },
  {
   "cell_type": "code",
   "execution_count": 8,
   "id": "1238c247",
   "metadata": {},
   "outputs": [],
   "source": [
    "df_Air['created'] = pd.to_datetime(df_Air['created'])\n",
    "df_Air2 = df_Air.set_index('created')"
   ]
  },
  {
   "cell_type": "code",
   "execution_count": 9,
   "id": "7ac3685d",
   "metadata": {},
   "outputs": [],
   "source": [
    "air_corp = []\n",
    "from nltk.stem.wordnet import WordNetLemmatizer \n",
    "import re\n",
    "for i in range(0, df_Air.shape[0]):\n",
    "    #Remove punctuations\n",
    "    text = re.sub('[^a-zA-Z]', ' ', str(df_Air2['Tweet_Text'][i]))\n",
    "    \n",
    "    #Convert to lowercase\n",
    "    text = text.lower()\n",
    "    ##Convert to list from string\n",
    "    text = text.split()\n",
    "    ##Lemmatizing\n",
    "    lm = WordNetLemmatizer() \n",
    "       \n",
    "    \n",
    "    text = [lm.lemmatize(word) for word in text if not word in stop_words] \n",
    "    text = \" \".join(text)\n",
    "    air_corp.append(text)"
   ]
  },
  {
   "cell_type": "code",
   "execution_count": 10,
   "id": "fa4efa1d",
   "metadata": {},
   "outputs": [],
   "source": [
    "df_Air2['cltext'] = air_corp"
   ]
  },
  {
   "cell_type": "code",
   "execution_count": 11,
   "id": "901ca9c6",
   "metadata": {},
   "outputs": [],
   "source": [
    "df_Air2['senti'] = df_Air2['cltext'].apply(sid.polarity_scores)"
   ]
  },
  {
   "cell_type": "markdown",
   "id": "b1670091",
   "metadata": {},
   "source": [
    "# Calculating NPS of all airlines"
   ]
  },
  {
   "cell_type": "code",
   "execution_count": 12,
   "id": "57af1249",
   "metadata": {},
   "outputs": [
    {
     "name": "stdout",
     "output_type": "stream",
     "text": [
      "0.06446976595062455\n",
      "0.13803772576680512\n",
      "0.09094880837875408\n"
     ]
    }
   ],
   "source": [
    "df_Air2['compsenti'] = df_Air2['senti'].apply(lambda x: x['compound'])\n",
    "print(df_Air2['compsenti'].mean())\n",
    "df_Air2['possenti'] = df_Air2['senti'].apply(lambda x: x['pos'])\n",
    "print(df_Air2['possenti'].mean())\n",
    "df_Air2['negsenti'] = df_Air2['senti'].apply(lambda x: x['neg'])\n",
    "print(df_Air2['negsenti'].mean())"
   ]
  },
  {
   "cell_type": "code",
   "execution_count": 13,
   "id": "eb19d2af",
   "metadata": {},
   "outputs": [],
   "source": [
    "Pos_score=df_Air2.groupby(by='Airlines')['possenti'].mean().sort_values(ascending=False)"
   ]
  },
  {
   "cell_type": "code",
   "execution_count": 14,
   "id": "65a0c4b2",
   "metadata": {},
   "outputs": [
    {
     "name": "stdout",
     "output_type": "stream",
     "text": [
      "Airlines\n",
      "AirAsia       0.170727\n",
      "Indigo        0.169122\n",
      "AirVistara    0.164953\n",
      "Spicejet      0.114683\n",
      "AirIndia      0.114292\n",
      "Name: possenti, dtype: float64\n"
     ]
    }
   ],
   "source": [
    "print(Pos_score)"
   ]
  },
  {
   "cell_type": "code",
   "execution_count": 15,
   "id": "e7f4e03b",
   "metadata": {},
   "outputs": [],
   "source": [
    "PS_df=pd.DataFrame(Pos_score)\n",
    "PS_df['Airline']=['AirAsia','Indigo','AirVistara','Spicejet','AirIndia']\n",
    "PS_df.columns.values[0]=\"PositiveScores\""
   ]
  },
  {
   "cell_type": "code",
   "execution_count": 16,
   "id": "91037633",
   "metadata": {},
   "outputs": [
    {
     "data": {
      "text/html": [
       "<div>\n",
       "<style scoped>\n",
       "    .dataframe tbody tr th:only-of-type {\n",
       "        vertical-align: middle;\n",
       "    }\n",
       "\n",
       "    .dataframe tbody tr th {\n",
       "        vertical-align: top;\n",
       "    }\n",
       "\n",
       "    .dataframe thead th {\n",
       "        text-align: right;\n",
       "    }\n",
       "</style>\n",
       "<table border=\"1\" class=\"dataframe\">\n",
       "  <thead>\n",
       "    <tr style=\"text-align: right;\">\n",
       "      <th></th>\n",
       "      <th>PositiveScores</th>\n",
       "      <th>Airline</th>\n",
       "    </tr>\n",
       "    <tr>\n",
       "      <th>Airlines</th>\n",
       "      <th></th>\n",
       "      <th></th>\n",
       "    </tr>\n",
       "  </thead>\n",
       "  <tbody>\n",
       "    <tr>\n",
       "      <th>AirAsia</th>\n",
       "      <td>0.170727</td>\n",
       "      <td>AirAsia</td>\n",
       "    </tr>\n",
       "    <tr>\n",
       "      <th>Indigo</th>\n",
       "      <td>0.169122</td>\n",
       "      <td>Indigo</td>\n",
       "    </tr>\n",
       "    <tr>\n",
       "      <th>AirVistara</th>\n",
       "      <td>0.164953</td>\n",
       "      <td>AirVistara</td>\n",
       "    </tr>\n",
       "    <tr>\n",
       "      <th>Spicejet</th>\n",
       "      <td>0.114683</td>\n",
       "      <td>Spicejet</td>\n",
       "    </tr>\n",
       "    <tr>\n",
       "      <th>AirIndia</th>\n",
       "      <td>0.114292</td>\n",
       "      <td>AirIndia</td>\n",
       "    </tr>\n",
       "  </tbody>\n",
       "</table>\n",
       "</div>"
      ],
      "text/plain": [
       "            PositiveScores     Airline\n",
       "Airlines                              \n",
       "AirAsia           0.170727     AirAsia\n",
       "Indigo            0.169122      Indigo\n",
       "AirVistara        0.164953  AirVistara\n",
       "Spicejet          0.114683    Spicejet\n",
       "AirIndia          0.114292    AirIndia"
      ]
     },
     "execution_count": 16,
     "metadata": {},
     "output_type": "execute_result"
    }
   ],
   "source": [
    "PS_df"
   ]
  },
  {
   "cell_type": "code",
   "execution_count": 17,
   "id": "0a5fac57",
   "metadata": {},
   "outputs": [
    {
     "data": {
      "image/png": "[encoded data removed]",
      "text/plain": [
       "<Figure size 1440x720 with 1 Axes>"
      ]
     },
     "metadata": {},
     "output_type": "display_data"
    }
   ],
   "source": [
    "#Barplot of positive scores of Airlines\n",
    "import seaborn as sns\n",
    "import matplotlib.pyplot as plt\n",
    "sns.set(rc={'figure.figsize':(20,10)})\n",
    "sns.barplot( x=\"Airline\",y=\"PositiveScores\",data=PS_df)\n",
    "plt.show()"
   ]
  },
  {
   "cell_type": "code",
   "execution_count": 18,
   "id": "47fe975b",
   "metadata": {},
   "outputs": [],
   "source": [
    "Neg_score=df_Air2.groupby(by='Airlines')['negsenti'].mean().sort_values(ascending=False)"
   ]
  },
  {
   "cell_type": "code",
   "execution_count": 19,
   "id": "649a7e97",
   "metadata": {},
   "outputs": [
    {
     "data": {
      "text/plain": [
       "Airlines\n",
       "Spicejet      0.102761\n",
       "AirAsia       0.096045\n",
       "AirIndia      0.094935\n",
       "Indigo        0.080897\n",
       "AirVistara    0.073783\n",
       "Name: negsenti, dtype: float64"
      ]
     },
     "execution_count": 19,
     "metadata": {},
     "output_type": "execute_result"
    }
   ],
   "source": [
    "Neg_score"
   ]
  },
  {
   "cell_type": "code",
   "execution_count": 20,
   "id": "dd3858b1",
   "metadata": {},
   "outputs": [],
   "source": [
    "NS_df=pd.DataFrame(Neg_score)\n",
    "NS_df['Airline']=['Spicejet','AirAsia','AirIndia','Indigo','AirVistara']\n",
    "NS_df.columns.values[0]=\"NegativeScores\""
   ]
  },
  {
   "cell_type": "code",
   "execution_count": 21,
   "id": "80b834b0",
   "metadata": {},
   "outputs": [
    {
     "data": {
      "image/png": "[encoded data removed]",
      "text/plain": [
       "<Figure size 1440x720 with 1 Axes>"
      ]
     },
     "metadata": {},
     "output_type": "display_data"
    }
   ],
   "source": [
    "#Barplot of negative scores of Airlines\n",
    "import seaborn as sns\n",
    "import matplotlib.pyplot as plt\n",
    "sns.set(rc={'figure.figsize':(20,10)})\n",
    "sns.barplot( x=\"Airline\",y=\"NegativeScores\",data=NS_df)\n",
    "plt.show()"
   ]
  },
  {
   "cell_type": "code",
   "execution_count": 22,
   "id": "596a4b55",
   "metadata": {},
   "outputs": [],
   "source": [
    "Comp_score=df_Air2.groupby(by='Airlines')['compsenti'].mean().sort_values(ascending=False)"
   ]
  },
  {
   "cell_type": "code",
   "execution_count": 23,
   "id": "f7f061e8",
   "metadata": {},
   "outputs": [
    {
     "data": {
      "text/plain": [
       "Airlines\n",
       "AirVistara    0.149578\n",
       "Indigo        0.120816\n",
       "AirAsia       0.114870\n",
       "AirIndia      0.032185\n",
       "Spicejet     -0.004202\n",
       "Name: compsenti, dtype: float64"
      ]
     },
     "execution_count": 23,
     "metadata": {},
     "output_type": "execute_result"
    }
   ],
   "source": [
    "Comp_score"
   ]
  },
  {
   "cell_type": "code",
   "execution_count": 24,
   "id": "0738727b",
   "metadata": {},
   "outputs": [],
   "source": [
    "CS_df=pd.DataFrame(Comp_score)\n",
    "CS_df['Airline']=['AirVistara','Indigo','AirAsia','AirIndia','Spicejet']\n",
    "CS_df.columns.values[0]=\"CompositeScores\""
   ]
  },
  {
   "cell_type": "code",
   "execution_count": 25,
   "id": "dc095166",
   "metadata": {},
   "outputs": [
    {
     "data": {
      "image/png": "[encoded data removed]",
      "text/plain": [
       "<Figure size 1440x720 with 1 Axes>"
      ]
     },
     "metadata": {},
     "output_type": "display_data"
    }
   ],
   "source": [
    "#Barplot of composite scores of Airlines\n",
    "import seaborn as sns\n",
    "import matplotlib.pyplot as plt\n",
    "sns.set(rc={'figure.figsize':(20,10)})\n",
    "sns.barplot( x=\"Airline\",y=\"CompositeScores\",data=CS_df)\n",
    "plt.show()"
   ]
  },
  {
   "cell_type": "code",
   "execution_count": 26,
   "id": "f5b85597",
   "metadata": {},
   "outputs": [],
   "source": [
    "Diff=(round(df_Air2.groupby(by='Airlines')['possenti'].mean()-df_Air2.groupby(by='Airlines')['negsenti'].mean(),4)*100).sort_values(ascending=False)"
   ]
  },
  {
   "cell_type": "code",
   "execution_count": 27,
   "id": "ec446da1",
   "metadata": {},
   "outputs": [
    {
     "data": {
      "text/plain": [
       "Airlines\n",
       "AirVistara    9.12\n",
       "Indigo        8.82\n",
       "AirAsia       7.47\n",
       "AirIndia      1.94\n",
       "Spicejet      1.19\n",
       "dtype: float64"
      ]
     },
     "execution_count": 27,
     "metadata": {},
     "output_type": "execute_result"
    }
   ],
   "source": [
    "Diff"
   ]
  },
  {
   "cell_type": "code",
   "execution_count": 28,
   "id": "ad9cda9e",
   "metadata": {},
   "outputs": [],
   "source": [
    "NPS_df=pd.DataFrame(Diff)\n",
    "NPS_df['Airline']=['AirVistara','Indigo','AirAsia','AirIndia','Spicejet']\n",
    "NPS_df.columns.values[0]=\"NPS\""
   ]
  },
  {
   "cell_type": "code",
   "execution_count": 29,
   "id": "2a990a80",
   "metadata": {},
   "outputs": [
    {
     "data": {
      "text/html": [
       "<div>\n",
       "<style scoped>\n",
       "    .dataframe tbody tr th:only-of-type {\n",
       "        vertical-align: middle;\n",
       "    }\n",
       "\n",
       "    .dataframe tbody tr th {\n",
       "        vertical-align: top;\n",
       "    }\n",
       "\n",
       "    .dataframe thead th {\n",
       "        text-align: right;\n",
       "    }\n",
       "</style>\n",
       "<table border=\"1\" class=\"dataframe\">\n",
       "  <thead>\n",
       "    <tr style=\"text-align: right;\">\n",
       "      <th></th>\n",
       "      <th>NPS</th>\n",
       "      <th>Airline</th>\n",
       "    </tr>\n",
       "    <tr>\n",
       "      <th>Airlines</th>\n",
       "      <th></th>\n",
       "      <th></th>\n",
       "    </tr>\n",
       "  </thead>\n",
       "  <tbody>\n",
       "    <tr>\n",
       "      <th>AirVistara</th>\n",
       "      <td>9.12</td>\n",
       "      <td>AirVistara</td>\n",
       "    </tr>\n",
       "    <tr>\n",
       "      <th>Indigo</th>\n",
       "      <td>8.82</td>\n",
       "      <td>Indigo</td>\n",
       "    </tr>\n",
       "    <tr>\n",
       "      <th>AirAsia</th>\n",
       "      <td>7.47</td>\n",
       "      <td>AirAsia</td>\n",
       "    </tr>\n",
       "    <tr>\n",
       "      <th>AirIndia</th>\n",
       "      <td>1.94</td>\n",
       "      <td>AirIndia</td>\n",
       "    </tr>\n",
       "    <tr>\n",
       "      <th>Spicejet</th>\n",
       "      <td>1.19</td>\n",
       "      <td>Spicejet</td>\n",
       "    </tr>\n",
       "  </tbody>\n",
       "</table>\n",
       "</div>"
      ],
      "text/plain": [
       "             NPS     Airline\n",
       "Airlines                    \n",
       "AirVistara  9.12  AirVistara\n",
       "Indigo      8.82      Indigo\n",
       "AirAsia     7.47     AirAsia\n",
       "AirIndia    1.94    AirIndia\n",
       "Spicejet    1.19    Spicejet"
      ]
     },
     "execution_count": 29,
     "metadata": {},
     "output_type": "execute_result"
    }
   ],
   "source": [
    "NPS_df"
   ]
  },
  {
   "cell_type": "code",
   "execution_count": 30,
   "id": "2684c349",
   "metadata": {},
   "outputs": [
    {
     "data": {
      "image/png": "[encoded data removed]",
      "text/plain": [
       "<Figure size 1440x720 with 1 Axes>"
      ]
     },
     "metadata": {},
     "output_type": "display_data"
    }
   ],
   "source": [
    "#Barplot of NPS scores of Airlines\n",
    "import seaborn as sns\n",
    "import matplotlib.pyplot as plt\n",
    "sns.set(rc={'figure.figsize':(20,10)})\n",
    "sns.barplot( x=\"Airline\",y=\"NPS\",data=NPS_df)\n",
    "plt.show()"
   ]
  },
  {
   "cell_type": "code",
   "execution_count": null,
   "id": "a9af3b37",
   "metadata": {},
   "outputs": [],
   "source": []
  }
 ],
 "metadata": {
  "kernelspec": {
   "display_name": "Python 3",
   "language": "python",
   "name": "python3"
  },
  "language_info": {
   "codemirror_mode": {
    "name": "ipython",
    "version": 3
   },
   "file_extension": ".py",
   "mimetype": "text/x-python",
   "name": "python",
   "nbconvert_exporter": "python",
   "pygments_lexer": "ipython3",
   "version": "3.8.8"
  }
 },
 "nbformat": 4,
 "nbformat_minor": 5
}
