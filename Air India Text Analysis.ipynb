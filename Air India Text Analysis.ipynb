{
 "cells": [
  {
   "cell_type": "code",
   "execution_count": 1,
   "id": "008a4f5d",
   "metadata": {},
   "outputs": [],
   "source": [
    "import os\n",
    "import tweepy as tw\n",
    "import pandas as pd\n",
    "import json\n",
    "import numpy as np\n",
    "import matplotlib.pyplot as plt"
   ]
  },
  {
   "cell_type": "code",
   "execution_count": 2,
   "id": "c239a2ad",
   "metadata": {},
   "outputs": [],
   "source": [
    "consumer_key= 'dTJ4xUIjHdzdlbC3c7aYkRB7u'\n",
    "consumer_secret= 'By06edJOS16zSdLCsGvm1coPDw5stKRURotsaFEDsfRmwoxLYm'\n",
    "access_token= '841582139179171840-RE9IqBQDGJlb8t9PEUs5hEaBMWkuZxY'\n",
    "access_token_secret= 'FhSBzo1nTYAVWGBb05b34aoSVsb17Fvb4bc7gac9GScNt'"
   ]
  },
  {
   "cell_type": "code",
   "execution_count": 3,
   "id": "5b5891b8",
   "metadata": {},
   "outputs": [],
   "source": [
    "auth = tw.OAuthHandler(consumer_key, consumer_secret)\n",
    "auth.set_access_token(access_token, access_token_secret)\n",
    "api = tw.API(auth, wait_on_rate_limit=True)"
   ]
  },
  {
   "cell_type": "code",
   "execution_count": 4,
   "id": "53df628b",
   "metadata": {},
   "outputs": [],
   "source": [
    "tweets_df2=pd.read_csv(\"AirIndia_final1.csv\")"
   ]
  },
  {
   "cell_type": "code",
   "execution_count": 5,
   "id": "c7cd2aa6",
   "metadata": {},
   "outputs": [
    {
     "data": {
      "text/html": [
       "<div>\n",
       "<style scoped>\n",
       "    .dataframe tbody tr th:only-of-type {\n",
       "        vertical-align: middle;\n",
       "    }\n",
       "\n",
       "    .dataframe tbody tr th {\n",
       "        vertical-align: top;\n",
       "    }\n",
       "\n",
       "    .dataframe thead th {\n",
       "        text-align: right;\n",
       "    }\n",
       "</style>\n",
       "<table border=\"1\" class=\"dataframe\">\n",
       "  <thead>\n",
       "    <tr style=\"text-align: right;\">\n",
       "      <th></th>\n",
       "      <th>Unnamed: 0</th>\n",
       "      <th>Tweet_Text</th>\n",
       "      <th>created</th>\n",
       "      <th>Twitter_screenname</th>\n",
       "      <th>Followers</th>\n",
       "      <th>id</th>\n",
       "      <th>location</th>\n",
       "    </tr>\n",
       "  </thead>\n",
       "  <tbody>\n",
       "    <tr>\n",
       "      <th>0</th>\n",
       "      <td>0</td>\n",
       "      <td>@hemendu @JM_Scindia @PMOIndia @airindiain @AA...</td>\n",
       "      <td>2022-05-07 15:00:21+00:00</td>\n",
       "      <td>Krishan48622838</td>\n",
       "      <td>0</td>\n",
       "      <td>1.520000e+18</td>\n",
       "      <td>PANCHKULA</td>\n",
       "    </tr>\n",
       "    <tr>\n",
       "      <th>1</th>\n",
       "      <td>1</td>\n",
       "      <td>Heard a lot about @airindiain, reason to have ...</td>\n",
       "      <td>2022-05-07 14:56:43+00:00</td>\n",
       "      <td>Akkumar_</td>\n",
       "      <td>77</td>\n",
       "      <td>1.520000e+18</td>\n",
       "      <td>#Delhi_India_Earth</td>\n",
       "    </tr>\n",
       "    <tr>\n",
       "      <th>2</th>\n",
       "      <td>2</td>\n",
       "      <td>RT @Dastanagoi: Pathetic service of @makemytri...</td>\n",
       "      <td>2022-05-07 14:55:20+00:00</td>\n",
       "      <td>haakubaarajesha</td>\n",
       "      <td>1</td>\n",
       "      <td>1.520000e+18</td>\n",
       "      <td>Bengaluru, India</td>\n",
       "    </tr>\n",
       "    <tr>\n",
       "      <th>3</th>\n",
       "      <td>3</td>\n",
       "      <td>@virsanghvi @airindiain @IndiGo6E @TataCompani...</td>\n",
       "      <td>2022-05-07 14:46:01+00:00</td>\n",
       "      <td>HumSaoEkHein</td>\n",
       "      <td>7</td>\n",
       "      <td>1.520000e+18</td>\n",
       "      <td>NaN</td>\n",
       "    </tr>\n",
       "    <tr>\n",
       "      <th>4</th>\n",
       "      <td>4</td>\n",
       "      <td>RT @madhukishwar: Surprised that @AirIndia beh...</td>\n",
       "      <td>2022-05-07 13:59:04+00:00</td>\n",
       "      <td>gautam18381</td>\n",
       "      <td>169</td>\n",
       "      <td>1.520000e+18</td>\n",
       "      <td>NaN</td>\n",
       "    </tr>\n",
       "  </tbody>\n",
       "</table>\n",
       "</div>"
      ],
      "text/plain": [
       "   Unnamed: 0                                         Tweet_Text  \\\n",
       "0           0  @hemendu @JM_Scindia @PMOIndia @airindiain @AA...   \n",
       "1           1  Heard a lot about @airindiain, reason to have ...   \n",
       "2           2  RT @Dastanagoi: Pathetic service of @makemytri...   \n",
       "3           3  @virsanghvi @airindiain @IndiGo6E @TataCompani...   \n",
       "4           4  RT @madhukishwar: Surprised that @AirIndia beh...   \n",
       "\n",
       "                     created Twitter_screenname  Followers            id  \\\n",
       "0  2022-05-07 15:00:21+00:00    Krishan48622838          0  1.520000e+18   \n",
       "1  2022-05-07 14:56:43+00:00           Akkumar_         77  1.520000e+18   \n",
       "2  2022-05-07 14:55:20+00:00    haakubaarajesha          1  1.520000e+18   \n",
       "3  2022-05-07 14:46:01+00:00       HumSaoEkHein          7  1.520000e+18   \n",
       "4  2022-05-07 13:59:04+00:00        gautam18381        169  1.520000e+18   \n",
       "\n",
       "              location  \n",
       "0            PANCHKULA  \n",
       "1  #Delhi_India_Earth   \n",
       "2     Bengaluru, India  \n",
       "3                  NaN  \n",
       "4                  NaN  "
      ]
     },
     "execution_count": 5,
     "metadata": {},
     "output_type": "execute_result"
    }
   ],
   "source": [
    "tweets_df2.head()"
   ]
  },
  {
   "cell_type": "code",
   "execution_count": 6,
   "id": "c0407faa",
   "metadata": {},
   "outputs": [],
   "source": [
    "import nltk\n",
    "import re"
   ]
  },
  {
   "cell_type": "code",
   "execution_count": 7,
   "id": "ef2ac91d",
   "metadata": {},
   "outputs": [
    {
     "data": {
      "text/plain": [
       "{'a',\n",
       " 'about',\n",
       " 'above',\n",
       " 'after',\n",
       " 'again',\n",
       " 'against',\n",
       " 'ai',\n",
       " 'ain',\n",
       " 'air',\n",
       " 'airindia',\n",
       " 'airindiain',\n",
       " 'airvistara',\n",
       " 'all',\n",
       " 'also',\n",
       " 'am',\n",
       " 'amp',\n",
       " 'an',\n",
       " 'and',\n",
       " 'any',\n",
       " 'are',\n",
       " 'aren',\n",
       " \"aren't\",\n",
       " 'as',\n",
       " 'at',\n",
       " 'be',\n",
       " 'because',\n",
       " 'been',\n",
       " 'before',\n",
       " 'being',\n",
       " 'below',\n",
       " 'between',\n",
       " 'both',\n",
       " 'br',\n",
       " 'but',\n",
       " 'by',\n",
       " 'can',\n",
       " 'co',\n",
       " 'could',\n",
       " 'couldn',\n",
       " \"couldn't\",\n",
       " 'd',\n",
       " 'dear',\n",
       " 'deepigoyal',\n",
       " 'did',\n",
       " 'didn',\n",
       " \"didn't\",\n",
       " 'do',\n",
       " 'does',\n",
       " 'doesn',\n",
       " \"doesn't\",\n",
       " 'doing',\n",
       " 'don',\n",
       " \"don't\",\n",
       " 'down',\n",
       " 'during',\n",
       " 'each',\n",
       " 'even',\n",
       " 'few',\n",
       " 'film',\n",
       " 'first',\n",
       " 'for',\n",
       " 'from',\n",
       " 'further',\n",
       " 'get',\n",
       " 'go',\n",
       " 'good',\n",
       " 'gpwt',\n",
       " 'great',\n",
       " 'had',\n",
       " 'hadn',\n",
       " \"hadn't\",\n",
       " 'has',\n",
       " 'hasn',\n",
       " \"hasn't\",\n",
       " 'have',\n",
       " 'haven',\n",
       " \"haven't\",\n",
       " 'having',\n",
       " 'he',\n",
       " 'hemendu',\n",
       " 'her',\n",
       " 'here',\n",
       " 'hers',\n",
       " 'herself',\n",
       " 'him',\n",
       " 'himself',\n",
       " 'his',\n",
       " 'how',\n",
       " 'http',\n",
       " 'i',\n",
       " 'if',\n",
       " 'in',\n",
       " 'india',\n",
       " 'into',\n",
       " 'is',\n",
       " 'isn',\n",
       " \"isn't\",\n",
       " 'it',\n",
       " \"it's\",\n",
       " 'its',\n",
       " 'itself',\n",
       " 'jm',\n",
       " 'just',\n",
       " 'know',\n",
       " 'like',\n",
       " 'll',\n",
       " 'look',\n",
       " 'm',\n",
       " 'ma',\n",
       " 'made',\n",
       " 'make',\n",
       " 'many',\n",
       " 'me',\n",
       " 'mightn',\n",
       " \"mightn't\",\n",
       " 'mkarthi',\n",
       " 'more',\n",
       " 'most',\n",
       " 'movie',\n",
       " 'mr',\n",
       " 'much',\n",
       " 'mustn',\n",
       " \"mustn't\",\n",
       " 'my',\n",
       " 'myself',\n",
       " 'nan',\n",
       " 'needn',\n",
       " \"needn't\",\n",
       " 'nmi',\n",
       " 'no',\n",
       " 'nor',\n",
       " 'not',\n",
       " 'now',\n",
       " 'o',\n",
       " 'of',\n",
       " 'off',\n",
       " 'on',\n",
       " 'once',\n",
       " 'one',\n",
       " 'only',\n",
       " 'or',\n",
       " 'other',\n",
       " 'our',\n",
       " 'ours',\n",
       " 'ourselves',\n",
       " 'out',\n",
       " 'over',\n",
       " 'own',\n",
       " 'people',\n",
       " 're',\n",
       " 'really',\n",
       " 'rt',\n",
       " 's',\n",
       " 'same',\n",
       " 'scindia',\n",
       " 'see',\n",
       " 'shan',\n",
       " \"shan't\",\n",
       " 'she',\n",
       " \"she's\",\n",
       " 'should',\n",
       " \"should've\",\n",
       " 'shouldn',\n",
       " \"shouldn't\",\n",
       " 'show',\n",
       " 'so',\n",
       " 'some',\n",
       " 'such',\n",
       " 't',\n",
       " 'th',\n",
       " 'than',\n",
       " 'that',\n",
       " \"that'll\",\n",
       " 'the',\n",
       " 'their',\n",
       " 'theirs',\n",
       " 'them',\n",
       " 'themselves',\n",
       " 'then',\n",
       " 'there',\n",
       " 'these',\n",
       " 'they',\n",
       " 'thing',\n",
       " 'think',\n",
       " 'this',\n",
       " 'those',\n",
       " 'through',\n",
       " 'time',\n",
       " 'to',\n",
       " 'too',\n",
       " 'under',\n",
       " 'until',\n",
       " 'up',\n",
       " 've',\n",
       " 'very',\n",
       " 'vistara',\n",
       " 'was',\n",
       " 'wasn',\n",
       " \"wasn't\",\n",
       " 'watch',\n",
       " 'way',\n",
       " 'we',\n",
       " 'well',\n",
       " 'were',\n",
       " 'weren',\n",
       " \"weren't\",\n",
       " 'what',\n",
       " 'when',\n",
       " 'where',\n",
       " 'which',\n",
       " 'while',\n",
       " 'who',\n",
       " 'whom',\n",
       " 'why',\n",
       " 'will',\n",
       " 'with',\n",
       " 'won',\n",
       " \"won't\",\n",
       " 'would',\n",
       " 'wouldn',\n",
       " \"wouldn't\",\n",
       " 'y',\n",
       " 'you',\n",
       " \"you'd\",\n",
       " \"you'll\",\n",
       " \"you're\",\n",
       " \"you've\",\n",
       " 'your',\n",
       " 'yours',\n",
       " 'yourself',\n",
       " 'yourselves',\n",
       " 'zomato',\n",
       " 'zomatocare'}"
      ]
     },
     "execution_count": 7,
     "metadata": {},
     "output_type": "execute_result"
    }
   ],
   "source": [
    "#remove stopwords\n",
    "from nltk.corpus import stopwords\n",
    "stop_words = set(stopwords.words(\"english\"))\n",
    "#Adding custom stop words\n",
    "new_words=[]\n",
    "new_words = [\"dear\",\"mr\",\"airindia\",\"air\",\"ai\",\"india\",\"jm\",\"hemendu\",\"scindia\",\"nan\",\"airvistara\",\"vistara\",\"th\",\"air\",\"rt\",\"airindiain\",\"nmi\",\"mkarthi\",\"deepigoyal\",\"gpwt\",\"rt\",\"zomato\",\"zomatocare\",\"some\",\"one\",\"like\",\"time\",\"br\",\"movie\",\"film\",\"could\",\"good\",'even', 'get', 'would',\n",
    "             'make', 'really', 'see', 'well', 'much', 'great', 'first', 'people', 'also', \n",
    "             'show', 'way', 'thing', 'made', 'go', 'think', 'know', 'watch','look','many', 'co','http', 'amp']\n",
    "stop_words = stop_words.union(new_words)\n",
    "stop_words"
   ]
  },
  {
   "cell_type": "code",
   "execution_count": 8,
   "id": "fbe6d70b",
   "metadata": {},
   "outputs": [],
   "source": [
    "#Stemming words\n",
    "from nltk.stem.porter import PorterStemmer\n",
    "porter = PorterStemmer()\n",
    "#Lemmatisation\n",
    "from nltk.stem.wordnet import WordNetLemmatizer \n",
    "lm = WordNetLemmatizer() "
   ]
  },
  {
   "cell_type": "code",
   "execution_count": 9,
   "id": "e8273469",
   "metadata": {},
   "outputs": [
    {
     "data": {
      "text/plain": [
       "str"
      ]
     },
     "execution_count": 9,
     "metadata": {},
     "output_type": "execute_result"
    }
   ],
   "source": [
    "type(tweets_df2['Tweet_Text'][0])"
   ]
  },
  {
   "cell_type": "code",
   "execution_count": 10,
   "id": "b9fa3222",
   "metadata": {},
   "outputs": [],
   "source": [
    "corpus = []\n",
    "for i in range(0, tweets_df2.shape[0]):\n",
    "    #Remove punctuations\n",
    "    text = re.sub('[^a-zA-Z]', ' ', str(tweets_df2['Tweet_Text'][i]))\n",
    "    \n",
    "    #Convert to lowercase\n",
    "    text = text.lower()\n",
    "    ##Convert to list from string\n",
    "    text = text.split()\n",
    "    ##Lemmatizing\n",
    "    lm = WordNetLemmatizer() \n",
    "       \n",
    "    \n",
    "    text = [lm.lemmatize(word) for word in text if not word in stop_words] \n",
    "    text = \" \".join(text)\n",
    "    corpus.append(text)"
   ]
  },
  {
   "cell_type": "code",
   "execution_count": 11,
   "id": "66f45cb5",
   "metadata": {},
   "outputs": [],
   "source": [
    "from sklearn.feature_extraction.text import CountVectorizer"
   ]
  },
  {
   "cell_type": "code",
   "execution_count": 12,
   "id": "5e7c4a6f",
   "metadata": {},
   "outputs": [],
   "source": [
    "#ignore words that appear in 80% of documents, \n",
    "#eliminate stop words\n",
    "cv=CountVectorizer(max_df=0.8,stop_words=stop_words, ngram_range=(1,2), min_df=0.001)\n",
    "X=cv.fit_transform(corpus)\n",
    "vector = cv.transform(corpus)"
   ]
  },
  {
   "cell_type": "code",
   "execution_count": 13,
   "id": "4b76f97e",
   "metadata": {},
   "outputs": [],
   "source": [
    "#Most frequently occuring words\n",
    "def get_top_n_words(corpus, n=None):\n",
    "    vec = CountVectorizer(stop_words=stop_words).fit(corpus)\n",
    "    bag_of_words = vec.transform(corpus)\n",
    "    sum_words = bag_of_words.sum(axis=0) \n",
    "    words_freq = [(word, sum_words[0, idx]) for word, idx in vec.vocabulary_.items()]\n",
    "    words_freq =sorted(words_freq, key = lambda x: x[1], reverse=True)\n",
    "    return words_freq[:n]"
   ]
  },
  {
   "cell_type": "code",
   "execution_count": 14,
   "id": "ac31f332",
   "metadata": {},
   "outputs": [],
   "source": [
    "#Convert most freq words to dataframe for plotting bar plot\n",
    "top_words = get_top_n_words(corpus, n=20)\n",
    "top_df = pd.DataFrame(top_words)\n",
    "top_df.columns=[\"Word\", \"Freq\"]"
   ]
  },
  {
   "cell_type": "code",
   "execution_count": 16,
   "id": "436183e5",
   "metadata": {},
   "outputs": [
    {
     "data": {
      "image/png": "[encoded data removed]",
      "text/plain": [
       "<Figure size 1440x720 with 1 Axes>"
      ]
     },
     "metadata": {},
     "output_type": "display_data"
    }
   ],
   "source": [
    "#Barplot of most freq words\n",
    "import seaborn as sns\n",
    "import matplotlib.pyplot as plt\n",
    "sns.set(rc={'figure.figsize':(20,10)})\n",
    "sns.barplot(x=\"Word\", y=\"Freq\",data=top_df)\n",
    "plt.show()"
   ]
  },
  {
   "cell_type": "code",
   "execution_count": 17,
   "id": "ad7bf216",
   "metadata": {},
   "outputs": [],
   "source": [
    "#Visualise using word cloud\n",
    "from wordcloud import WordCloud, STOPWORDS, ImageColorGenerator\n",
    "\n",
    "import matplotlib.pyplot as plt\n",
    "%matplotlib inline"
   ]
  },
  {
   "cell_type": "code",
   "execution_count": 18,
   "id": "a8412cac",
   "metadata": {},
   "outputs": [],
   "source": [
    "from wordcloud import WordCloud"
   ]
  },
  {
   "cell_type": "code",
   "execution_count": 44,
   "id": "f3959326",
   "metadata": {},
   "outputs": [
    {
     "name": "stdout",
     "output_type": "stream",
     "text": [
      "<wordcloud.wordcloud.WordCloud object at 0x0000019F336479A0>\n"
     ]
    },
    {
     "data": {
      "image/png": "[encoded data removed]",
      "text/plain": [
       "<Figure size 432x288 with 1 Axes>"
      ]
     },
     "metadata": {
      "needs_background": "light"
     },
     "output_type": "display_data"
    }
   ],
   "source": [
    "# Create and generate a word cloud image:\n",
    "wordcloud = WordCloud(\n",
    "                          background_color='black',\n",
    "                          colormap=\"Reds\",\n",
    "                          stopwords=stop_words,\n",
    "                          max_words=50,\n",
    "                          max_font_size=50, \n",
    "                          random_state=42,\n",
    "                          ).generate(str(corpus))\n",
    "\n",
    "print(wordcloud)\n",
    "fig = plt.figure(1)\n",
    "plt.imshow(wordcloud)\n",
    "plt.axis('off')\n",
    "plt.show()\n",
    "fig.savefig(\"wordAirIndia.png\", dpi=900)"
   ]
  },
  {
   "cell_type": "code",
   "execution_count": 19,
   "id": "900d27c0",
   "metadata": {},
   "outputs": [
    {
     "name": "stdout",
     "output_type": "stream",
     "text": [
      "                  Bi-gram  Freq\n",
      "0                moca goi    70\n",
      "1              visit http    53\n",
      "2           customer care    46\n",
      "3        customer service    44\n",
      "4           request visit    41\n",
      "5    international travel    37\n",
      "6        travel guideline    36\n",
      "7   updated international    32\n",
      "8               aiesl mro    31\n",
      "9               new delhi    30\n",
      "10   rntata tatacompanies    29\n",
      "11           aai official    28\n",
      "12               last day    28\n",
      "13         flight delayed    25\n",
      "14            flight http    25\n"
     ]
    }
   ],
   "source": [
    "#Most frequently occuring Bi-grams\n",
    "def get_top_n2_words(corpus, n=None):\n",
    "    vec1 = CountVectorizer(ngram_range=(2,2), max_features=2000).fit(corpus)\n",
    "    bag_of_words = vec1.transform(corpus)\n",
    "    sum_words = bag_of_words.sum(axis=0) \n",
    "    words_freq = [(word, sum_words[0, idx]) for word, idx in     vec1.vocabulary_.items()]\n",
    "    words_freq =sorted(words_freq, key = lambda x: x[1], reverse=True)\n",
    "    return words_freq[:n]\n",
    "\n",
    "top2_words = get_top_n2_words(corpus, n=15)\n",
    "top2_df = pd.DataFrame(top2_words)\n",
    "top2_df.columns=[\"Bi-gram\", \"Freq\"]\n",
    "print(top2_df)"
   ]
  },
  {
   "cell_type": "code",
   "execution_count": 25,
   "id": "b7923aa4",
   "metadata": {},
   "outputs": [
    {
     "data": {
      "image/png": "[encoded data removed]",
      "text/plain": [
       "<Figure size 2880x720 with 1 Axes>"
      ]
     },
     "metadata": {},
     "output_type": "display_data"
    },
    {
     "data": {
      "text/plain": [
       "<Figure size 2880x720 with 0 Axes>"
      ]
     },
     "metadata": {},
     "output_type": "display_data"
    }
   ],
   "source": [
    "#Barplot of most freq words\n",
    "import seaborn as sns\n",
    "import matplotlib.pyplot as plt\n",
    "sns.set(rc={'figure.figsize':(40,10)})\n",
    "sns.barplot(x=\"Bi-gram\", y=\"Freq\",data=top2_df)\n",
    "plt.show()\n",
    "plt.figure(figsize=(40,10)) \n",
    "fig = plt.figure(1)\n",
    "fig.savefig(\"bigrambarplot.png\")"
   ]
  },
  {
   "cell_type": "code",
   "execution_count": 26,
   "id": "9834098c",
   "metadata": {},
   "outputs": [],
   "source": [
    "## Applying tf-idf vectoriser to the corpus\n",
    "from sklearn.feature_extraction.text import TfidfVectorizer\n",
    "\n",
    "# Fit the tf-idf model\n",
    "tfv = TfidfVectorizer(stop_words=stop_words, ngram_range=(1,2), min_df = 0.00001)"
   ]
  },
  {
   "cell_type": "code",
   "execution_count": 27,
   "id": "4f56a749",
   "metadata": {},
   "outputs": [
    {
     "data": {
      "text/plain": [
       "(2290, 27767)"
      ]
     },
     "execution_count": 27,
     "metadata": {},
     "output_type": "execute_result"
    }
   ],
   "source": [
    "# tokenize and build vocab\n",
    "tfmat = tfv.fit_transform(corpus)\n",
    "tfmat.shape"
   ]
  },
  {
   "cell_type": "code",
   "execution_count": 28,
   "id": "e20e0a0e",
   "metadata": {},
   "outputs": [],
   "source": [
    "feature_names=tfv.get_feature_names()"
   ]
  },
  {
   "cell_type": "code",
   "execution_count": 29,
   "id": "1cce7fc9",
   "metadata": {},
   "outputs": [],
   "source": [
    "#Remove sparsity\n",
    "dense = tfmat.todense()"
   ]
  },
  {
   "cell_type": "code",
   "execution_count": 30,
   "id": "264220ca",
   "metadata": {},
   "outputs": [],
   "source": [
    "#Convert the matrix to a list\n",
    "corpus1 = dense[0].tolist()[0]"
   ]
  },
  {
   "cell_type": "code",
   "execution_count": 31,
   "id": "1da79be3",
   "metadata": {},
   "outputs": [],
   "source": [
    "#Create a list of feature number and tf idf score - using pair iteration in list\n",
    "phrase_scores = [pair for pair in zip(range(0, len(corpus1)), corpus1) if pair[1] > 0]"
   ]
  },
  {
   "cell_type": "code",
   "execution_count": 32,
   "id": "aef8fdc7",
   "metadata": {},
   "outputs": [
    {
     "data": {
      "text/plain": [
       "[(16965, 0.30084612147690415),\n",
       " (17414, 0.30084612147690415),\n",
       " (18280, 0.30084612147690415),\n",
       " (21948, 0.30084612147690415),\n",
       " (25804, 0.30084612147690415),\n",
       " (25805, 0.30084612147690415),\n",
       " (27122, 0.30084612147690415),\n",
       " (17412, 0.28568093944174877),\n",
       " (254, 0.2539903548912729),\n",
       " (21941, 0.2186656575575966)]"
      ]
     },
     "execution_count": 32,
     "metadata": {},
     "output_type": "execute_result"
    }
   ],
   "source": [
    "#Sort by second item in list - -1 for descending order\n",
    "sorted_phrase_scores = sorted(phrase_scores, key=lambda t: t[1] * -1)\n",
    "sorted_phrase_scores[:10]"
   ]
  },
  {
   "cell_type": "code",
   "execution_count": 33,
   "id": "893af47d",
   "metadata": {},
   "outputs": [
    {
     "name": "stdout",
     "output_type": "stream",
     "text": [
      "official usandindia  0.30084612147690415\n",
      "painful worst        0.30084612147690415\n",
      "pmoindia aai         0.30084612147690415\n",
      "shame painful        0.30084612147690415\n",
      "usandindia           0.30084612147690415\n",
      "usandindia shame     0.30084612147690415\n",
      "worst act            0.30084612147690415\n",
      "painful              0.28568093944174877\n",
      "act                  0.2539903548912729\n",
      "shame                0.2186656575575966\n",
      "aai official         0.20082777157045587\n",
      "aai                  0.1971459217789106\n",
      "pmoindia             0.18045391791480356\n",
      "worst                0.17490272164595747\n",
      "official             0.17363473781170166\n"
     ]
    }
   ],
   "source": [
    "#Get word instead of word id with score\n",
    "phrase1=[]\n",
    "scores=[]\n",
    "for phrase, score in [(feature_names[word_id], score) \n",
    "                      for (word_id, score) in sorted_phrase_scores][:20]:\n",
    "   print('{0: <20} {1}'.format(phrase, score))\n",
    "   phrase1.append(phrase)\n",
    "   scores.append(score)"
   ]
  },
  {
   "cell_type": "code",
   "execution_count": 34,
   "id": "b64926c6",
   "metadata": {},
   "outputs": [],
   "source": [
    "tweets_df3=pd.DataFrame({'Words':np.array(phrase1),'TFID_Scores':np.array(scores)})"
   ]
  },
  {
   "cell_type": "code",
   "execution_count": 35,
   "id": "b382de00",
   "metadata": {},
   "outputs": [
    {
     "data": {
      "text/html": [
       "<div>\n",
       "<style scoped>\n",
       "    .dataframe tbody tr th:only-of-type {\n",
       "        vertical-align: middle;\n",
       "    }\n",
       "\n",
       "    .dataframe tbody tr th {\n",
       "        vertical-align: top;\n",
       "    }\n",
       "\n",
       "    .dataframe thead th {\n",
       "        text-align: right;\n",
       "    }\n",
       "</style>\n",
       "<table border=\"1\" class=\"dataframe\">\n",
       "  <thead>\n",
       "    <tr style=\"text-align: right;\">\n",
       "      <th></th>\n",
       "      <th>Words</th>\n",
       "      <th>TFID_Scores</th>\n",
       "    </tr>\n",
       "  </thead>\n",
       "  <tbody>\n",
       "    <tr>\n",
       "      <th>0</th>\n",
       "      <td>official usandindia</td>\n",
       "      <td>0.300846</td>\n",
       "    </tr>\n",
       "    <tr>\n",
       "      <th>1</th>\n",
       "      <td>painful worst</td>\n",
       "      <td>0.300846</td>\n",
       "    </tr>\n",
       "    <tr>\n",
       "      <th>2</th>\n",
       "      <td>pmoindia aai</td>\n",
       "      <td>0.300846</td>\n",
       "    </tr>\n",
       "    <tr>\n",
       "      <th>3</th>\n",
       "      <td>shame painful</td>\n",
       "      <td>0.300846</td>\n",
       "    </tr>\n",
       "    <tr>\n",
       "      <th>4</th>\n",
       "      <td>usandindia</td>\n",
       "      <td>0.300846</td>\n",
       "    </tr>\n",
       "    <tr>\n",
       "      <th>5</th>\n",
       "      <td>usandindia shame</td>\n",
       "      <td>0.300846</td>\n",
       "    </tr>\n",
       "    <tr>\n",
       "      <th>6</th>\n",
       "      <td>worst act</td>\n",
       "      <td>0.300846</td>\n",
       "    </tr>\n",
       "    <tr>\n",
       "      <th>7</th>\n",
       "      <td>painful</td>\n",
       "      <td>0.285681</td>\n",
       "    </tr>\n",
       "    <tr>\n",
       "      <th>8</th>\n",
       "      <td>act</td>\n",
       "      <td>0.253990</td>\n",
       "    </tr>\n",
       "    <tr>\n",
       "      <th>9</th>\n",
       "      <td>shame</td>\n",
       "      <td>0.218666</td>\n",
       "    </tr>\n",
       "    <tr>\n",
       "      <th>10</th>\n",
       "      <td>aai official</td>\n",
       "      <td>0.200828</td>\n",
       "    </tr>\n",
       "    <tr>\n",
       "      <th>11</th>\n",
       "      <td>aai</td>\n",
       "      <td>0.197146</td>\n",
       "    </tr>\n",
       "    <tr>\n",
       "      <th>12</th>\n",
       "      <td>pmoindia</td>\n",
       "      <td>0.180454</td>\n",
       "    </tr>\n",
       "    <tr>\n",
       "      <th>13</th>\n",
       "      <td>worst</td>\n",
       "      <td>0.174903</td>\n",
       "    </tr>\n",
       "    <tr>\n",
       "      <th>14</th>\n",
       "      <td>official</td>\n",
       "      <td>0.173635</td>\n",
       "    </tr>\n",
       "  </tbody>\n",
       "</table>\n",
       "</div>"
      ],
      "text/plain": [
       "                  Words  TFID_Scores\n",
       "0   official usandindia     0.300846\n",
       "1         painful worst     0.300846\n",
       "2          pmoindia aai     0.300846\n",
       "3         shame painful     0.300846\n",
       "4            usandindia     0.300846\n",
       "5      usandindia shame     0.300846\n",
       "6             worst act     0.300846\n",
       "7               painful     0.285681\n",
       "8                   act     0.253990\n",
       "9                 shame     0.218666\n",
       "10         aai official     0.200828\n",
       "11                  aai     0.197146\n",
       "12             pmoindia     0.180454\n",
       "13                worst     0.174903\n",
       "14             official     0.173635"
      ]
     },
     "execution_count": 35,
     "metadata": {},
     "output_type": "execute_result"
    }
   ],
   "source": [
    "tweets_df3"
   ]
  },
  {
   "cell_type": "code",
   "execution_count": 36,
   "id": "119364bb",
   "metadata": {},
   "outputs": [
    {
     "data": {
      "image/png": "[encoded data removed]",
      "text/plain": [
       "<Figure size 2160x720 with 1 Axes>"
      ]
     },
     "metadata": {},
     "output_type": "display_data"
    }
   ],
   "source": [
    "#Barplot of most freq words\n",
    "import seaborn as sns\n",
    "import matplotlib.pyplot as plt\n",
    "sns.set(rc={'figure.figsize':(30,10)})\n",
    "sns.barplot(x=\"Words\", y=\"TFID_Scores\",data=tweets_df3)\n",
    "plt.show()"
   ]
  },
  {
   "cell_type": "code",
   "execution_count": null,
   "id": "f969f370",
   "metadata": {},
   "outputs": [],
   "source": []
  }
 ],
 "metadata": {
  "kernelspec": {
   "display_name": "Python 3",
   "language": "python",
   "name": "python3"
  },
  "language_info": {
   "codemirror_mode": {
    "name": "ipython",
    "version": 3
   },
   "file_extension": ".py",
   "mimetype": "text/x-python",
   "name": "python",
   "nbconvert_exporter": "python",
   "pygments_lexer": "ipython3",
   "version": "3.8.8"
  }
 },
 "nbformat": 4,
 "nbformat_minor": 5
}
